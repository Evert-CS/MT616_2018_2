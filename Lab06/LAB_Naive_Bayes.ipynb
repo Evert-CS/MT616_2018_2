{
  "nbformat": 4,
  "nbformat_minor": 0,
  "metadata": {
    "colab": {
      "name": "LAB_Naive_Bayes1.ipynb",
      "version": "0.3.2",
      "provenance": []
    },
    "kernelspec": {
      "name": "python3",
      "display_name": "Python 3"
    }
  },
  "cells": [
    {
      "metadata": {
        "id": "a_4NwfHh6Jib",
        "colab_type": "text"
      },
      "cell_type": "markdown",
      "source": [
        "# Clasificador: Naive Bayes\n"
      ]
    },
    {
      "metadata": {
        "id": "gEUPDspV9hZb",
        "colab_type": "text"
      },
      "cell_type": "markdown",
      "source": [
        "Los clasificadores Naive Bayes son una familia de \"clasificadores probabilísticos\"  basados en la aplicación del teorema de Bayes con fuertes supuestos de independencia (naive) entre las características.\n",
        "\n",
        "Los clasificadores Naive Bayes son altamente escalables, y requieren un número de parámetros lineales en el número de variables (características / predictores) en un problema de ML.\n",
        "\n",
        "Los modelos Naive Bayes se conocen bajo una variedad de nombres, incluyendo Bayes simples y Bayes independientes, pero todos estos nombres hacen referencia al uso del teorema de Bayes en la regla de decisión del clasificador, pero el naive Bayes  se refier mas a la independencia entre caracteristicas.\n",
        "\n",
        "El problema de  tutorial usaremos en este tutorial es el problema de la Diabetes de los indios Pima . Este problema se compone de 768 observaciones  médicas para las pacientes de los indios Pima. Los registros describen las mediciones instantáneas tomadas del paciente, como su edad, el número de veces embarazadas y el análisis de sangre. Todos los pacientes son mujeres mayores de 21 años. Todos los atributos son numéricos y sus unidades varían de un atributo a otro.\n",
        "\n",
        "Cada registro tiene un valor de clase que indica si el paciente sufrió una aparición de diabetes dentro de los 5 años posteriores a la toma de las mediciones (1) o no (0)."
      ]
    },
    {
      "metadata": {
        "id": "L51kGvE69g8H",
        "colab_type": "code",
        "outputId": "f11b1f5c-1d02-4cb5-878c-0294fa8a0a9b",
        "colab": {
          "base_uri": "https://localhost:8080/",
          "height": 99
        }
      },
      "cell_type": "code",
      "source": [
        "# Cargar el Drive helper y mount\n",
        "from google.colab import drive\n",
        "\n",
        "# Link y Codigo de autorizacion.\n",
        "drive.mount('/content/drive_all')\n",
        "\n",
        "\n",
        "import numpy as np\n",
        "import pandas as pd\n",
        "import matplotlib.pyplot as plt\n",
        "\n",
        "dataset = pd.read_csv('https://raw.githubusercontent.com/jbrownlee/Datasets/master/pima-indians-diabetes.data.csv',header=None, names=None, index_col=None)\n",
        "dataset.sample()\n"
      ],
      "execution_count": 0,
      "outputs": [
        {
          "output_type": "stream",
          "text": [
            "Drive already mounted at /content/drive_all; to attempt to forcibly remount, call drive.mount(\"/content/drive_all\", force_remount=True).\n"
          ],
          "name": "stdout"
        },
        {
          "output_type": "execute_result",
          "data": {
            "text/html": [
              "<div>\n",
              "<style scoped>\n",
              "    .dataframe tbody tr th:only-of-type {\n",
              "        vertical-align: middle;\n",
              "    }\n",
              "\n",
              "    .dataframe tbody tr th {\n",
              "        vertical-align: top;\n",
              "    }\n",
              "\n",
              "    .dataframe thead th {\n",
              "        text-align: right;\n",
              "    }\n",
              "</style>\n",
              "<table border=\"1\" class=\"dataframe\">\n",
              "  <thead>\n",
              "    <tr style=\"text-align: right;\">\n",
              "      <th></th>\n",
              "      <th>0</th>\n",
              "      <th>1</th>\n",
              "      <th>2</th>\n",
              "      <th>3</th>\n",
              "      <th>4</th>\n",
              "      <th>5</th>\n",
              "      <th>6</th>\n",
              "      <th>7</th>\n",
              "      <th>8</th>\n",
              "    </tr>\n",
              "  </thead>\n",
              "  <tbody>\n",
              "    <tr>\n",
              "      <th>439</th>\n",
              "      <td>6</td>\n",
              "      <td>107</td>\n",
              "      <td>88</td>\n",
              "      <td>0</td>\n",
              "      <td>0</td>\n",
              "      <td>36.8</td>\n",
              "      <td>0.727</td>\n",
              "      <td>31</td>\n",
              "      <td>0</td>\n",
              "    </tr>\n",
              "  </tbody>\n",
              "</table>\n",
              "</div>"
            ],
            "text/plain": [
              "     0    1   2  3  4     5      6   7  8\n",
              "439  6  107  88  0  0  36.8  0.727  31  0"
            ]
          },
          "metadata": {
            "tags": []
          },
          "execution_count": 2
        }
      ]
    },
    {
      "metadata": {
        "id": "y1Mv7QmB_Lul",
        "colab_type": "text"
      },
      "cell_type": "markdown",
      "source": [
        "### Dividir los datos en un conjunto de datos en entrenamiento y test"
      ]
    },
    {
      "metadata": {
        "id": "Jib7mmmG_MfJ",
        "colab_type": "code",
        "colab": {}
      },
      "cell_type": "code",
      "source": [
        "import random\n",
        "def splitDataset(dataset, splitRatio):\n",
        "\ttrainSize = int(len(dataset) * splitRatio)\n",
        "\ttrainSet = []\n",
        "\tcopy = list(dataset)\n",
        "\twhile len(trainSet) < trainSize:\n",
        "\t\tindex = random.randrange(len(copy))\n",
        "\t\ttrainSet.append(copy.pop(index))\n",
        "\treturn [trainSet, copy]\n",
        "\n"
      ],
      "execution_count": 0,
      "outputs": []
    },
    {
      "metadata": {
        "id": "KHUqpelZ_YfA",
        "colab_type": "code",
        "outputId": "7cd4e03c-a95c-40a8-e63e-6d6e735161a4",
        "colab": {
          "base_uri": "https://localhost:8080/",
          "height": 35
        }
      },
      "cell_type": "code",
      "source": [
        "dataset2 = [[1], [2], [3], [4], [5]]\n",
        "splitRatio = 0.75\n",
        "train, test = splitDataset(dataset2, splitRatio)\n",
        "print('Split {0} rows into train with {1} and test with {2}',format(len(dataset2)), train, test)"
      ],
      "execution_count": 0,
      "outputs": [
        {
          "output_type": "stream",
          "text": [
            "Split {0} rows into train with {1} and test with {2} 5 [[1], [5], [4]] [[2], [3]]\n"
          ],
          "name": "stdout"
        }
      ]
    },
    {
      "metadata": {
        "id": "2I9CexJbAA6-",
        "colab_type": "text"
      },
      "cell_type": "markdown",
      "source": [
        "**2. Resumir datos**\n",
        "El modelo de Naive Bayes se compone de un resumen de los datos en el conjunto de entrenamiento. Este resumen luego se usa para hacer predicciones. El resumen de los datos de entrenamiento recopilados implica la media y la desviación estándar para cada atributo, por valor de clase. Por ejemplo, si hay dos valores de clase y 7 atributos numéricos, entonces necesitamos una media y una desviación estándar para cada combinación de atributo (7) y valor de clase (2), es decir, 14 resúmenes de atributos.\n",
        "\n",
        "Estos son necesarios cuando se realizan predicciones para calcular la probabilidad de valores de atributos específicos que pertenecen a cada valor de clase."
      ]
    },
    {
      "metadata": {
        "id": "bvgHHDVsAQV4",
        "colab_type": "text"
      },
      "cell_type": "markdown",
      "source": [
        "*** Datos separados por clase**\n",
        "La primera tarea es separar las instancias del conjunto de datos de entrenamiento por valor de clase para que podamos calcular estadísticas para cada clase. Podemos hacerlo creando un mapa de cada valor de clase a una lista de instancias que pertenecen a esa clase y ordenando el conjunto de datos completo de las instancias en las listas apropiadas."
      ]
    },
    {
      "metadata": {
        "id": "FP_F55vaANYG",
        "colab_type": "code",
        "colab": {}
      },
      "cell_type": "code",
      "source": [
        "def separateByClass(dataset):\n",
        "\tseparated = {}\n",
        "\tfor i in range(len(dataset)):\n",
        "\t\tvector = dataset[i]\n",
        "\t\tif (vector[-1] not in separated):\n",
        "\t\t\tseparated[vector[-1]] = []\n",
        "\t\tseparated[vector[-1]].append(vector)\n",
        "\treturn separated\n",
        "\n"
      ],
      "execution_count": 0,
      "outputs": []
    },
    {
      "metadata": {
        "id": "tzLQkwsxAij_",
        "colab_type": "code",
        "colab": {}
      },
      "cell_type": "code",
      "source": [
        "dataset3 = [[1,20,1], [2,21,0], [3,22,1]]\n",
        "separated = separateByClass(dataset3)\n",
        "#print('Separated instances: {0}').format(separated)"
      ],
      "execution_count": 0,
      "outputs": []
    },
    {
      "metadata": {
        "id": "5RqSeIa6A0uO",
        "colab_type": "text"
      },
      "cell_type": "markdown",
      "source": [
        "*** Calcular la media**\n",
        "Necesitamos calcular la media y  la desviación estándar de cada atributo para un valor de clase .\n"
      ]
    },
    {
      "metadata": {
        "id": "HtkUEbxyA2cW",
        "colab_type": "code",
        "colab": {}
      },
      "cell_type": "code",
      "source": [
        "import math\n",
        "def mean(numbers):\n",
        "\treturn sum(numbers)/float(len(numbers))\n",
        "\n",
        "def stdev(numbers):\n",
        "\tavg = mean(numbers)\n",
        "\tvariance = sum([pow(x-avg,2) for x in numbers])/float(len(numbers)-1)\n",
        "\treturn math.sqrt(variance)\n"
      ],
      "execution_count": 0,
      "outputs": []
    },
    {
      "metadata": {
        "id": "q7nWxmOXBBa0",
        "colab_type": "text"
      },
      "cell_type": "markdown",
      "source": [
        "**Resumir conjunto de datos**\n",
        "Para una lista dada de instancias (para un valor de clase) podemos calcular la media y la desviación estándar para cada atributo.\n",
        "\n",
        "La función zip agrupa los valores para cada atributo a través de las instancias de datos en sus propias listas."
      ]
    },
    {
      "metadata": {
        "id": "-5axFUpGBC6V",
        "colab_type": "code",
        "colab": {}
      },
      "cell_type": "code",
      "source": [
        "def summarize(dataset):\n",
        "\tsummaries = [(mean(attribute), stdev(attribute)) for attribute in zip(*dataset)]\n",
        "\tdel summaries[-1]\n",
        "\treturn summaries\n",
        "\n"
      ],
      "execution_count": 0,
      "outputs": []
    },
    {
      "metadata": {
        "id": "J6zVL202BNuK",
        "colab_type": "code",
        "outputId": "5b6bc22f-b1c5-4bac-84f6-ca766fa0c400",
        "colab": {
          "base_uri": "https://localhost:8080/",
          "height": 35
        }
      },
      "cell_type": "code",
      "source": [
        "dataset4 = [[1,20,0], [2,21,1], [3,22,0]]\n",
        "summary = summarize(dataset4)\n",
        "print('Attribute summaries: {0}',format(summary))"
      ],
      "execution_count": 0,
      "outputs": [
        {
          "output_type": "stream",
          "text": [
            "Attribute summaries: {0} [(2.0, 1.0), (21.0, 1.0)]\n"
          ],
          "name": "stdout"
        }
      ]
    },
    {
      "metadata": {
        "id": "J-k06scrBwZW",
        "colab_type": "text"
      },
      "cell_type": "markdown",
      "source": [
        "**Resumir atributos por clase**\n",
        "Podemos juntarlo todo separando primero nuestro conjunto de datos de entrenamiento en instancias agrupadas por clase. Luego calcula los resúmenes para cada atributo."
      ]
    },
    {
      "metadata": {
        "id": "VjzQ97dvBydr",
        "colab_type": "code",
        "colab": {}
      },
      "cell_type": "code",
      "source": [
        "def summarizeByClass(dataset):\n",
        "\tseparated = separateByClass(dataset)\n",
        "\tsummaries = {}\n",
        "\tfor classValue, instances in separated.items():\n",
        "\t\tsummaries[classValue] = summarize(instances)\n",
        "\treturn summaries\n",
        "\n"
      ],
      "execution_count": 0,
      "outputs": []
    },
    {
      "metadata": {
        "id": "Tp1OWh_AB6Py",
        "colab_type": "code",
        "outputId": "ec888bd4-8ee8-45dd-b46c-b5a5b2845236",
        "colab": {
          "base_uri": "https://localhost:8080/",
          "height": 35
        }
      },
      "cell_type": "code",
      "source": [
        "import timeit\n",
        "\n",
        "\n",
        "dataset4 = [[1,20,1], [2,21,0], [3,22,1], [4,22,0]]\n",
        "summary = summarizeByClass(dataset4)\n",
        "\n",
        "print('Summary by class value: {0}',format(summary))\n",
        "\n"
      ],
      "execution_count": 0,
      "outputs": [
        {
          "output_type": "stream",
          "text": [
            "Summary by class value: {0} {1: [(2.0, 1.4142135623730951), (21.0, 1.4142135623730951)], 0: [(3.0, 1.4142135623730951), (21.5, 0.7071067811865476)]}\n"
          ],
          "name": "stdout"
        }
      ]
    },
    {
      "metadata": {
        "id": "w1mQRzKRCJNM",
        "colab_type": "text"
      },
      "cell_type": "markdown",
      "source": [
        "**Hacer predicción**\n",
        "Ahora estamos listos para hacer predicciones utilizando los resúmenes preparados a partir de nuestros datos de entrenamiento.\n",
        "\n",
        "\n",
        "\n"
      ]
    },
    {
      "metadata": {
        "id": "Hee5Oxd-C_bJ",
        "colab_type": "text"
      },
      "cell_type": "markdown",
      "source": [
        "**Calcular la función de densidad de probabilidad gaussiana**\n",
        "Podemos usar una función gaussiana para estimar la probabilidad de un valor de atributo dado, dada la media conocida y la desviación estándar para el atributo estimado a partir de los datos de entrenamiento.\n",
        "\n",
        "Dado que los resúmenes de atributos se prepararon para cada atributo y valor de clase, el resultado es la probabilidad condicional de un valor de atributo dado dado un valor de clase. Estamos conectando nuestros detalles conocidos en Gaussian (valor de atributo, media y desviación estándar) y leyendo la probabilidad de que nuestro valor de atributo pertenezca a la clase."
      ]
    },
    {
      "metadata": {
        "id": "voMU7iFyDDRz",
        "colab_type": "text"
      },
      "cell_type": "markdown",
      "source": [
        "En la función **CalculateProbability ()** calculamos primero el exponente, luego calculamos la división principal. Esto nos permite ajustar bien la ecuación en dos líneas."
      ]
    },
    {
      "metadata": {
        "id": "FI58OjHzC7n7",
        "colab_type": "code",
        "colab": {}
      },
      "cell_type": "code",
      "source": [
        "import math\n",
        "def calculateProbability(x, mean, stdev):\n",
        "\texponent = math.exp(-(math.pow(x-mean,2)/(2*math.pow(stdev,2))))\n",
        "\treturn (1 / (math.sqrt(2*math.pi) * stdev)) * exponent\n",
        "\n",
        "\n"
      ],
      "execution_count": 0,
      "outputs": []
    },
    {
      "metadata": {
        "id": "Cy_eZOy5CFdz",
        "colab_type": "code",
        "outputId": "bbe46ef8-bb0a-4e60-a533-5cb89f7dd036",
        "colab": {
          "base_uri": "https://localhost:8080/",
          "height": 35
        }
      },
      "cell_type": "code",
      "source": [
        "x = 71.5\n",
        "mean = 73\n",
        "stdev = 6.2\n",
        "probability = calculateProbability(x, mean, stdev)\n",
        "print('Probability of belonging to this class: {0}',format(probability))\n"
      ],
      "execution_count": 0,
      "outputs": [
        {
          "output_type": "stream",
          "text": [
            "Probability of belonging to this class: {0} 0.06248965759370005\n"
          ],
          "name": "stdout"
        }
      ]
    },
    {
      "metadata": {
        "id": "x9GXczZ7Eiov",
        "colab_type": "text"
      },
      "cell_type": "markdown",
      "source": [
        "**Calcular probabilidades de clase**\n",
        "Ahora que podemos calcular la probabilidad de que un atributo pertenezca a una clase, podemos combinar las probabilidades de todos los valores de atributo para una instancia de datos y obtener una probabilidad de que toda la instancia de datos pertenezca a la clase."
      ]
    },
    {
      "metadata": {
        "id": "idbxKSv5Eptf",
        "colab_type": "code",
        "colab": {}
      },
      "cell_type": "code",
      "source": [
        "\n",
        "def calculateClassProbabilities(summaries, inputVector):\n",
        "\tprobabilities = {}\n",
        "\tfor classValue, classSummaries in summaries.items():\n",
        "\t\tprobabilities[classValue] = 1\n",
        "\t\tfor i in range(len(classSummaries)):\n",
        "\t\t\tmean, stdev = classSummaries[i]\n",
        "\t\t\tx = inputVector[i]\n",
        "\t\t\tprobabilities[classValue] *= calculateProbability(x, mean, stdev)\n",
        "\treturn probabilities\n"
      ],
      "execution_count": 0,
      "outputs": []
    },
    {
      "metadata": {
        "id": "Zr0Drq9CEygv",
        "colab_type": "code",
        "outputId": "5408be21-97b7-4204-bc23-8f8903b89ced",
        "colab": {
          "base_uri": "https://localhost:8080/",
          "height": 35
        }
      },
      "cell_type": "code",
      "source": [
        "summaries = {0:[(1, 0.5)], 1:[(20, 5.0)]}\n",
        "inputVector = [1.1, '?']\n",
        "probabilities = calculateClassProbabilities(summaries, inputVector)\n",
        "print('Probabilities for each class: {0}',format(probabilities))"
      ],
      "execution_count": 0,
      "outputs": [
        {
          "output_type": "stream",
          "text": [
            "Probabilities for each class: {0} {0: 0.7820853879509118, 1: 6.298736258150442e-05}\n"
          ],
          "name": "stdout"
        }
      ]
    },
    {
      "metadata": {
        "id": "GnQo8W9GFCIP",
        "colab_type": "text"
      },
      "cell_type": "markdown",
      "source": [
        "**Haz una predicción**\n",
        "Ahora que podemos calcular la probabilidad de que una instancia de datos pertenezca a cada valor de clase, podemos buscar la mayor probabilidad y devolver la clase asociada."
      ]
    },
    {
      "metadata": {
        "id": "xHIPClPGFD3G",
        "colab_type": "code",
        "colab": {}
      },
      "cell_type": "code",
      "source": [
        "\n",
        "\n",
        "def predict(summaries, inputVector):\n",
        "\tprobabilities = calculateClassProbabilities(summaries, inputVector)\n",
        "\tbestLabel, bestProb = None, -1\n",
        "\tfor classValue, probability in probabilities.items():\n",
        "\t\tif bestLabel is None or probability > bestProb:\n",
        "\t\t\tbestProb = probability\n",
        "\t\t\tbestLabel = classValue\n",
        "\treturn bestLabel\n"
      ],
      "execution_count": 0,
      "outputs": []
    },
    {
      "metadata": {
        "id": "p6H2uL-tFKIN",
        "colab_type": "text"
      },
      "cell_type": "markdown",
      "source": [
        ""
      ]
    },
    {
      "metadata": {
        "id": "jf51niX1FKQt",
        "colab_type": "code",
        "outputId": "a6751940-43d0-4baa-a158-961c3e3864da",
        "colab": {
          "base_uri": "https://localhost:8080/",
          "height": 35
        }
      },
      "cell_type": "code",
      "source": [
        "\n",
        "summaries = {'A':[(1, 0.5)], 'B':[(20, 5.0)]}\n",
        "inputVector = [1.1, '?']\n",
        "result = predict(summaries, inputVector)\n",
        "print('Prediction: {0}',format(result))"
      ],
      "execution_count": 0,
      "outputs": [
        {
          "output_type": "stream",
          "text": [
            "Prediction: {0} A\n"
          ],
          "name": "stdout"
        }
      ]
    },
    {
      "metadata": {
        "id": "VJez6ANEHJYy",
        "colab_type": "text"
      },
      "cell_type": "markdown",
      "source": [
        "# Hacer predicciones\n",
        "Finalmente, podemos estimar la precisión del modelo haciendo predicciones para cada instancia de datos en nuestro conjunto de datos de prueba. Los getPredictions () van a hacer esto y devolver una lista de predicciones para cada instancia de prueba."
      ]
    },
    {
      "metadata": {
        "id": "jV0XnosJHKzj",
        "colab_type": "code",
        "colab": {}
      },
      "cell_type": "code",
      "source": [
        "\n",
        "\n",
        "def getPredictions(summaries, testSet):\n",
        "\tpredictions = []\n",
        "\tfor i in range(len(testSet)):\n",
        "\t\tresult = predict(summaries, testSet[i])\n",
        "\t\tpredictions.append(result)\n",
        "\treturn predictions\n",
        "\n"
      ],
      "execution_count": 0,
      "outputs": []
    },
    {
      "metadata": {
        "id": "-JXSTL3wIrf6",
        "colab_type": "code",
        "outputId": "39e793c3-d67f-4b4f-f661-f904a3112cb3",
        "colab": {
          "base_uri": "https://localhost:8080/",
          "height": 35
        }
      },
      "cell_type": "code",
      "source": [
        "\n",
        "summaries = {'A':[(1, 0.5)], 'B':[(20, 5.0)]}\n",
        "testSet = [[1.1, '?'], [19.1, '?']]\n",
        "predictions = getPredictions(summaries, testSet)\n",
        "print('Predictions: {0}',format(predictions))"
      ],
      "execution_count": 0,
      "outputs": [
        {
          "output_type": "stream",
          "text": [
            "Predictions: {0} ['A', 'B']\n"
          ],
          "name": "stdout"
        }
      ]
    },
    {
      "metadata": {
        "id": "NMF44A8UJXSY",
        "colab_type": "text"
      },
      "cell_type": "markdown",
      "source": [
        "**Obtener precisión**\n",
        "Las predicciones se pueden comparar con los valores de clase en el conjunto de datos de prueba y la precisión de la clasificación se puede calcular como una relación de precisión entre 0 y 100%. El getAccuracy () calculará esta relación de precisión."
      ]
    },
    {
      "metadata": {
        "id": "mxiqEyiKJY19",
        "colab_type": "code",
        "colab": {}
      },
      "cell_type": "code",
      "source": [
        "\n",
        "\n",
        "def getAccuracy(testSet, predictions):\n",
        "\tcorrect = 0\n",
        "\tfor x in range(len(testSet)):\n",
        "\t\tif testSet[x][-1] == predictions[x]:\n",
        "\t\t\tcorrect += 1\n",
        "\treturn (correct/float(len(testSet))) * 100.0\n"
      ],
      "execution_count": 0,
      "outputs": []
    },
    {
      "metadata": {
        "id": "FdtN5cupJfYo",
        "colab_type": "text"
      },
      "cell_type": "markdown",
      "source": [
        "Podemos probar la función getAccuracy () usando el código de ejemplo a continuación."
      ]
    },
    {
      "metadata": {
        "id": "J4TIz7ROJgFO",
        "colab_type": "code",
        "outputId": "0202aada-6e5f-46bc-a49d-6f6d054c230b",
        "colab": {
          "base_uri": "https://localhost:8080/",
          "height": 35
        }
      },
      "cell_type": "code",
      "source": [
        "\n",
        "testSet = [[1,1,1,'a'], [2,2,2,'a'], [3,3,3,'b']]\n",
        "predictions = ['a', 'a', 'a']\n",
        "accuracy = getAccuracy(testSet, predictions)\n",
        "print('Accuracy: {0}',format(accuracy))"
      ],
      "execution_count": 0,
      "outputs": [
        {
          "output_type": "stream",
          "text": [
            "Accuracy: {0} 66.66666666666666\n"
          ],
          "name": "stdout"
        }
      ]
    },
    {
      "metadata": {
        "id": "0ZX9nrVLp7T1",
        "colab_type": "text"
      },
      "cell_type": "markdown",
      "source": [
        "## La precision no es tan buena como esperamos, que tendriamos que hacer o cambiar para mejorarla?"
      ]
    },
    {
      "metadata": {
        "id": "7IianO2bPOns",
        "colab_type": "code",
        "colab": {}
      },
      "cell_type": "code",
      "source": [
        "## escribir codigo"
      ],
      "execution_count": 0,
      "outputs": []
    }
  ]
}