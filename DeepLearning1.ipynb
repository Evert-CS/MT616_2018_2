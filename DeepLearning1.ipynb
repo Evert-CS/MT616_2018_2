{
  "nbformat": 4,
  "nbformat_minor": 0,
  "metadata": {
    "colab": {
      "name": "DeepLearning1.ipynb",
      "version": "0.3.2",
      "provenance": [],
      "include_colab_link": true
    },
    "kernelspec": {
      "name": "python3",
      "display_name": "Python 3"
    }
  },
  "cells": [
    {
      "cell_type": "markdown",
      "metadata": {
        "id": "view-in-github",
        "colab_type": "text"
      },
      "source": [
        "<a href=\"https://colab.research.google.com/github/PCL-AI/MT616_2018_2/blob/PCL-AI-Lab02/DeepLearning1.ipynb\" target=\"_parent\"><img src=\"https://colab.research.google.com/assets/colab-badge.svg\" alt=\"Open In Colab\"/></a>"
      ]
    },
    {
      "metadata": {
        "id": "yWxczpEwte_Q",
        "colab_type": "code",
        "outputId": "30fb01fb-6cfd-425b-a914-e980e9a104ab",
        "colab": {
          "base_uri": "https://localhost:8080/",
          "height": 34
        }
      },
      "cell_type": "code",
      "source": [
        "#import tensorflow.keras as keras\n",
        "\n",
        "import tensorflow as tf\n",
        "\n",
        "print(tf.__version__)\n",
        "\n"
      ],
      "execution_count": 1,
      "outputs": [
        {
          "output_type": "stream",
          "text": [
            "1.12.0\n"
          ],
          "name": "stdout"
        }
      ]
    },
    {
      "metadata": {
        "id": "UUcsTr9wt0eY",
        "colab_type": "code",
        "outputId": "c9192dfc-b654-4e29-bd18-2d50e71472c4",
        "colab": {
          "base_uri": "https://localhost:8080/",
          "height": 34
        }
      },
      "cell_type": "code",
      "source": [
        "import matplotlib.pyplot as plt\n",
        "\n",
        "## dataset = tf.keras.datasets.fashion_mnist\n",
        "dataset = tf.keras.datasets.mnist\n",
        "(x_train, y_train),(x_test, y_test) = dataset.load_data()\n",
        "print(\"x_train shape:\", x_test.shape, \"y_train shape:\", y_test.shape)"
      ],
      "execution_count": 3,
      "outputs": [
        {
          "output_type": "stream",
          "text": [
            "x_train shape: (10000, 28, 28) y_train shape: (10000,)\n"
          ],
          "name": "stdout"
        }
      ]
    },
    {
      "metadata": {
        "id": "7-mDyCgjhzai",
        "colab_type": "code",
        "outputId": "d81f0ef2-9db8-44b4-d96d-962decd44198",
        "colab": {
          "base_uri": "https://localhost:8080/",
          "height": 51
        }
      },
      "cell_type": "code",
      "source": [
        "print(x_train.shape[0], 'train set')\n",
        "print(x_test.shape[0], 'test set')"
      ],
      "execution_count": 4,
      "outputs": [
        {
          "output_type": "stream",
          "text": [
            "60000 train set\n",
            "10000 test set\n"
          ],
          "name": "stdout"
        }
      ]
    },
    {
      "metadata": {
        "id": "G0WhhacKuCsI",
        "colab_type": "code",
        "outputId": "2dc71cf4-d273-4585-8a5a-eb57942e206a",
        "colab": {
          "base_uri": "https://localhost:8080/",
          "height": 850
        }
      },
      "cell_type": "code",
      "source": [
        "print(x_test)"
      ],
      "execution_count": 5,
      "outputs": [
        {
          "output_type": "stream",
          "text": [
            "[[[0 0 0 ... 0 0 0]\n",
            "  [0 0 0 ... 0 0 0]\n",
            "  [0 0 0 ... 0 0 0]\n",
            "  ...\n",
            "  [0 0 0 ... 0 0 0]\n",
            "  [0 0 0 ... 0 0 0]\n",
            "  [0 0 0 ... 0 0 0]]\n",
            "\n",
            " [[0 0 0 ... 0 0 0]\n",
            "  [0 0 0 ... 0 0 0]\n",
            "  [0 0 0 ... 0 0 0]\n",
            "  ...\n",
            "  [0 0 0 ... 0 0 0]\n",
            "  [0 0 0 ... 0 0 0]\n",
            "  [0 0 0 ... 0 0 0]]\n",
            "\n",
            " [[0 0 0 ... 0 0 0]\n",
            "  [0 0 0 ... 0 0 0]\n",
            "  [0 0 0 ... 0 0 0]\n",
            "  ...\n",
            "  [0 0 0 ... 0 0 0]\n",
            "  [0 0 0 ... 0 0 0]\n",
            "  [0 0 0 ... 0 0 0]]\n",
            "\n",
            " ...\n",
            "\n",
            " [[0 0 0 ... 0 0 0]\n",
            "  [0 0 0 ... 0 0 0]\n",
            "  [0 0 0 ... 0 0 0]\n",
            "  ...\n",
            "  [0 0 0 ... 0 0 0]\n",
            "  [0 0 0 ... 0 0 0]\n",
            "  [0 0 0 ... 0 0 0]]\n",
            "\n",
            " [[0 0 0 ... 0 0 0]\n",
            "  [0 0 0 ... 0 0 0]\n",
            "  [0 0 0 ... 0 0 0]\n",
            "  ...\n",
            "  [0 0 0 ... 0 0 0]\n",
            "  [0 0 0 ... 0 0 0]\n",
            "  [0 0 0 ... 0 0 0]]\n",
            "\n",
            " [[0 0 0 ... 0 0 0]\n",
            "  [0 0 0 ... 0 0 0]\n",
            "  [0 0 0 ... 0 0 0]\n",
            "  ...\n",
            "  [0 0 0 ... 0 0 0]\n",
            "  [0 0 0 ... 0 0 0]\n",
            "  [0 0 0 ... 0 0 0]]]\n"
          ],
          "name": "stdout"
        }
      ]
    },
    {
      "metadata": {
        "id": "ZD6Ng-EcuX5m",
        "colab_type": "code",
        "outputId": "c3f56342-565e-45ec-b35f-3d83238df890",
        "colab": {
          "base_uri": "https://localhost:8080/",
          "height": 347
        }
      },
      "cell_type": "code",
      "source": [
        "N_index = 10 \n",
        "plt.imshow(x_train[N_index],cmap=plt.cm.binary)\n",
        "plt.show()"
      ],
      "execution_count": 11,
      "outputs": [
        {
          "output_type": "display_data",
          "data": {
            "image/png": "[encoded data removed]",
            "text/plain": [
              "<matplotlib.figure.Figure at 0x7fab79e2f7f0>"
            ]
          },
          "metadata": {
            "tags": []
          }
        }
      ]
    },
    {
      "metadata": {
        "id": "s6uFvnkEu6xq",
        "colab_type": "code",
        "colab": {}
      },
      "cell_type": "code",
      "source": [
        "x_train = tf.keras.utils.normalize(x_train, axis=1)\n",
        "x_test = tf.keras.utils.normalize(x_test, axis=1)"
      ],
      "execution_count": 0,
      "outputs": []
    },
    {
      "metadata": {
        "id": "xCmBk5k4C47n",
        "colab_type": "code",
        "outputId": "80503723-16e4-456e-fc8c-9176bb7d4e47",
        "colab": {
          "base_uri": "https://localhost:8080/",
          "height": 347
        }
      },
      "cell_type": "code",
      "source": [
        "plt.imshow(x_train[N_index],cmap=plt.cm.binary)\n",
        "plt.show()"
      ],
      "execution_count": 10,
      "outputs": [
        {
          "output_type": "display_data",
          "data": {
            "image/png": "[encoded data removed]",
            "text/plain": [
              "<matplotlib.figure.Figure at 0x7fab79dbe908>"
            ]
          },
          "metadata": {
            "tags": []
          }
        }
      ]
    },
    {
      "metadata": {
        "id": "DDvJGRSuvBsk",
        "colab_type": "code",
        "outputId": "ef875ab6-ea5c-4689-ff14-4bee778634d5",
        "colab": {
          "base_uri": "https://localhost:8080/",
          "height": 2727
        }
      },
      "cell_type": "code",
      "source": [
        "print(x_train[12])\n",
        "\n",
        "plt.imshow(x_train[12],cmap=plt.cm.binary)\n",
        "plt.show()"
      ],
      "execution_count": 12,
      "outputs": [
        {
          "output_type": "stream",
          "text": [
            "[[0.         0.         0.         0.         0.         0.\n",
            "  0.         0.         0.         0.         0.         0.\n",
            "  0.         0.         0.         0.         0.         0.\n",
            "  0.         0.         0.         0.         0.         0.\n",
            "  0.         0.         0.         0.        ]\n",
            " [0.         0.         0.         0.         0.         0.\n",
            "  0.         0.         0.         0.         0.         0.\n",
            "  0.         0.         0.         0.         0.         0.\n",
            "  0.         0.         0.         0.         0.         0.\n",
            "  0.         0.         0.         0.        ]\n",
            " [0.         0.         0.         0.         0.         0.\n",
            "  0.         0.         0.         0.         0.         0.\n",
            "  0.         0.         0.         0.         0.         0.\n",
            "  0.         0.         0.         0.         0.         0.\n",
            "  0.         0.         0.         0.        ]\n",
            " [0.         0.         0.         0.         0.         0.\n",
            "  0.         0.         0.         0.         0.         0.\n",
            "  0.         0.         0.         0.         0.         0.\n",
            "  0.         0.         0.         0.         0.         0.\n",
            "  0.         0.         0.         0.        ]\n",
            " [0.         0.         0.         0.         0.         0.\n",
            "  0.         0.         0.         0.         0.         0.\n",
            "  0.         0.         0.         0.         0.         0.\n",
            "  0.         0.         0.         0.         0.         0.\n",
            "  0.         0.         0.         0.        ]\n",
            " [0.         0.         0.         0.04574525 0.26060845 0.24448766\n",
            "  0.36612898 0.36087423 0.40903762 0.28250348 0.27713279 0.24237278\n",
            "  0.22878858 0.20973118 0.17109673 0.05983058 0.         0.\n",
            "  0.         0.         0.         0.         0.         0.\n",
            "  0.         0.         0.         0.        ]\n",
            " [0.         0.         0.         0.52607037 0.66863177 0.68241609\n",
            "  0.65490677 0.5913681  0.42233966 0.39426309 0.45414018 0.39717862\n",
            "  0.37491806 0.34368852 0.33174481 0.28994818 0.24835867 0.15370824\n",
            "  0.04462778 0.         0.         0.         0.         0.\n",
            "  0.         0.         0.         0.        ]\n",
            " [0.         0.         0.         0.83866291 0.66863177 0.68241609\n",
            "  0.65490677 0.5471319  0.31426061 0.29336899 0.33792321 0.29553843\n",
            "  0.2214083  0.25573673 0.2677468  0.29224936 0.30039573 0.32001551\n",
            "  0.10142676 0.         0.         0.         0.         0.\n",
            "  0.         0.         0.         0.        ]\n",
            " [0.         0.         0.         0.13342364 0.19479823 0.09403371\n",
            "  0.09024306 0.05820552 0.         0.         0.         0.\n",
            "  0.         0.         0.01697907 0.25773172 0.30039573 0.32001551\n",
            "  0.2069106  0.         0.         0.         0.         0.\n",
            "  0.         0.         0.         0.        ]\n",
            " [0.         0.         0.         0.         0.         0.\n",
            "  0.         0.         0.         0.         0.         0.\n",
            "  0.         0.         0.11754737 0.29224936 0.30039573 0.31119618\n",
            "  0.07167491 0.         0.         0.         0.         0.\n",
            "  0.         0.         0.         0.        ]\n",
            " [0.         0.         0.         0.         0.         0.\n",
            "  0.         0.         0.         0.         0.         0.\n",
            "  0.00885633 0.20567187 0.32129616 0.29224936 0.30039573 0.06173528\n",
            "  0.         0.         0.         0.         0.         0.\n",
            "  0.         0.         0.         0.        ]\n",
            " [0.         0.         0.         0.         0.         0.\n",
            "  0.         0.         0.         0.         0.         0.10320389\n",
            "  0.23321675 0.34368852 0.33174481 0.28649642 0.12181402 0.01007923\n",
            "  0.         0.         0.         0.         0.         0.\n",
            "  0.         0.         0.         0.        ]\n",
            " [0.         0.         0.         0.         0.         0.\n",
            "  0.         0.         0.         0.         0.09654949 0.39248754\n",
            "  0.37491806 0.34368852 0.33174481 0.28534583 0.08751687 0.00629952\n",
            "  0.         0.         0.         0.         0.         0.\n",
            "  0.         0.         0.         0.        ]\n",
            " [0.         0.         0.         0.         0.         0.\n",
            "  0.         0.         0.         0.         0.25031349 0.39717862\n",
            "  0.37491806 0.34368852 0.33174481 0.29224936 0.30039573 0.25450052\n",
            "  0.16904461 0.0591267  0.         0.         0.         0.\n",
            "  0.         0.         0.         0.        ]\n",
            " [0.         0.         0.         0.         0.         0.\n",
            "  0.         0.         0.         0.         0.1037013  0.28302886\n",
            "  0.34539695 0.34368852 0.33174481 0.29224936 0.30039573 0.32001551\n",
            "  0.34349864 0.3311095  0.20426554 0.03769296 0.         0.\n",
            "  0.         0.         0.         0.        ]\n",
            " [0.         0.         0.         0.         0.         0.\n",
            "  0.         0.         0.         0.         0.         0.\n",
            "  0.04428166 0.06765522 0.09534398 0.17834114 0.29921307 0.32001551\n",
            "  0.34349864 0.33373735 0.37059605 0.32724339 0.00854194 0.\n",
            "  0.         0.         0.         0.        ]\n",
            " [0.         0.         0.         0.         0.         0.\n",
            "  0.         0.         0.         0.         0.         0.\n",
            "  0.         0.         0.         0.         0.10762209 0.25198072\n",
            "  0.34349864 0.33373735 0.37059605 0.43518231 0.50397446 0.\n",
            "  0.         0.         0.         0.        ]\n",
            " [0.         0.         0.         0.         0.         0.\n",
            "  0.         0.         0.         0.         0.         0.\n",
            "  0.         0.         0.         0.         0.         0.00503961\n",
            "  0.25965252 0.33373735 0.37059605 0.43518231 0.65772938 0.\n",
            "  0.         0.         0.         0.        ]\n",
            " [0.         0.         0.         0.         0.         0.\n",
            "  0.         0.         0.         0.         0.         0.\n",
            "  0.         0.         0.         0.         0.         0.\n",
            "  0.19068232 0.33373735 0.37059605 0.43518231 0.49543252 0.\n",
            "  0.         0.         0.         0.        ]\n",
            " [0.         0.         0.         0.         0.         0.\n",
            "  0.         0.         0.04156886 0.19557933 0.153764   0.\n",
            "  0.         0.         0.         0.         0.         0.00377971\n",
            "  0.25424309 0.33373735 0.37059605 0.42832905 0.26052917 0.\n",
            "  0.         0.         0.         0.        ]\n",
            " [0.         0.         0.         0.         0.         0.\n",
            "  0.         0.0558773  0.3475157  0.39426309 0.0268193  0.\n",
            "  0.         0.         0.         0.         0.02720119 0.17260679\n",
            "  0.34349864 0.33373735 0.37059605 0.35808308 0.         0.\n",
            "  0.         0.         0.         0.        ]\n",
            " [0.         0.         0.         0.         0.         0.\n",
            "  0.         0.39114111 0.42233966 0.39426309 0.08582177 0.01407326\n",
            "  0.         0.         0.01175474 0.14612468 0.28502115 0.32001551\n",
            "  0.34349864 0.33505128 0.35308757 0.10793892 0.         0.\n",
            "  0.         0.         0.         0.        ]\n",
            " [0.         0.         0.         0.         0.         0.\n",
            "  0.         0.23515031 0.42233966 0.39426309 0.45414018 0.32055755\n",
            "  0.28045052 0.25708984 0.2677468  0.29224936 0.30039573 0.32001551\n",
            "  0.34349864 0.31797024 0.09775565 0.         0.         0.\n",
            "  0.         0.         0.         0.        ]\n",
            " [0.         0.         0.         0.         0.         0.\n",
            "  0.         0.07683129 0.27601726 0.39426309 0.45414018 0.39717862\n",
            "  0.37491806 0.34368852 0.33174481 0.29224936 0.30039573 0.31497589\n",
            "  0.18662525 0.07226596 0.         0.         0.         0.\n",
            "  0.         0.         0.         0.        ]\n",
            " [0.         0.         0.         0.         0.         0.\n",
            "  0.         0.         0.01163928 0.13659509 0.27534484 0.18138866\n",
            "  0.28635474 0.26250225 0.20113662 0.17719055 0.10407411 0.06173528\n",
            "  0.         0.         0.         0.         0.         0.\n",
            "  0.         0.         0.         0.        ]\n",
            " [0.         0.         0.         0.         0.         0.\n",
            "  0.         0.         0.         0.         0.         0.\n",
            "  0.         0.         0.         0.         0.         0.\n",
            "  0.         0.         0.         0.         0.         0.\n",
            "  0.         0.         0.         0.        ]\n",
            " [0.         0.         0.         0.         0.         0.\n",
            "  0.         0.         0.         0.         0.         0.\n",
            "  0.         0.         0.         0.         0.         0.\n",
            "  0.         0.         0.         0.         0.         0.\n",
            "  0.         0.         0.         0.        ]\n",
            " [0.         0.         0.         0.         0.         0.\n",
            "  0.         0.         0.         0.         0.         0.\n",
            "  0.         0.         0.         0.         0.         0.\n",
            "  0.         0.         0.         0.         0.         0.\n",
            "  0.         0.         0.         0.        ]]\n"
          ],
          "name": "stdout"
        },
        {
          "output_type": "display_data",
          "data": {
            "image/png": "[encoded data removed]",
            "text/plain": [
              "<matplotlib.figure.Figure at 0x7fab7c6f1b00>"
            ]
          },
          "metadata": {
            "tags": []
          }
        }
      ]
    },
    {
      "metadata": {
        "id": "bf0V5ZwIHPXV",
        "colab_type": "text"
      },
      "cell_type": "markdown",
      "source": [
        "### Referencia de modelos https://keras.io/models/about-keras-models/"
      ]
    },
    {
      "metadata": {
        "id": "2L4EBcxkvK6s",
        "colab_type": "code",
        "colab": {}
      },
      "cell_type": "code",
      "source": [
        "modelo = tf.keras.models.Sequential()"
      ],
      "execution_count": 0,
      "outputs": []
    },
    {
      "metadata": {
        "id": "hOTrEunOvQ-k",
        "colab_type": "code",
        "colab": {}
      },
      "cell_type": "code",
      "source": [
        "modelo.add(tf.keras.layers.Flatten())"
      ],
      "execution_count": 0,
      "outputs": []
    },
    {
      "metadata": {
        "id": "fRiMFXoTvcKx",
        "colab_type": "code",
        "colab": {}
      },
      "cell_type": "code",
      "source": [
        "#https://keras.io/activations/\n",
        "modelo.add(tf.keras.layers.Dense(128, activation=tf.nn.relu))"
      ],
      "execution_count": 0,
      "outputs": []
    },
    {
      "metadata": {
        "id": "DEUx357N6Hg3",
        "colab_type": "code",
        "colab": {}
      },
      "cell_type": "code",
      "source": [
        "modelo.add(tf.keras.layers.Dense(128, activation=tf.nn.relu))  \n",
        "modelo.add(tf.keras.layers.Dense(128, activation=tf.nn.relu)) \n",
        "modelo.add(tf.keras.layers.Dense(10, activation=tf.nn.softmax))  \n",
        "\n",
        "modelo.compile(optimizer='adam', loss='sparse_categorical_crossentropy', metrics=['accuracy'])\n"
      ],
      "execution_count": 0,
      "outputs": []
    },
    {
      "metadata": {
        "id": "q34DqGm9MA4B",
        "colab_type": "code",
        "outputId": "de073c0b-88d8-4f19-c583-d0cd0c0210aa",
        "colab": {
          "base_uri": "https://localhost:8080/",
          "height": 170
        }
      },
      "cell_type": "code",
      "source": [
        "modelo.fit(x_train, y_train, epochs=4) \n"
      ],
      "execution_count": 18,
      "outputs": [
        {
          "output_type": "stream",
          "text": [
            "Epoch 1/4\n",
            "60000/60000 [==============================] - 10s 167us/step - loss: 0.4669 - acc: 0.8493\n",
            "Epoch 2/4\n",
            "60000/60000 [==============================] - 9s 155us/step - loss: 0.1447 - acc: 0.9595\n",
            "Epoch 3/4\n",
            "60000/60000 [==============================] - 9s 157us/step - loss: 0.1017 - acc: 0.9721\n",
            "Epoch 4/4\n",
            "60000/60000 [==============================] - 9s 153us/step - loss: 0.0786 - acc: 0.9771\n"
          ],
          "name": "stdout"
        },
        {
          "output_type": "execute_result",
          "data": {
            "text/plain": [
              "<tensorflow.python.keras.callbacks.History at 0x7fab7940aba8>"
            ]
          },
          "metadata": {
            "tags": []
          },
          "execution_count": 18
        }
      ]
    },
    {
      "metadata": {
        "id": "TWdgKaEtRha_",
        "colab_type": "code",
        "outputId": "4fae9a0b-f300-49ed-8952-fcb577e846aa",
        "colab": {
          "base_uri": "https://localhost:8080/",
          "height": 408
        }
      },
      "cell_type": "code",
      "source": [
        "modelo.summary()"
      ],
      "execution_count": 19,
      "outputs": [
        {
          "output_type": "stream",
          "text": [
            "_________________________________________________________________\n",
            "Layer (type)                 Output Shape              Param #   \n",
            "=================================================================\n",
            "flatten (Flatten)            multiple                  0         \n",
            "_________________________________________________________________\n",
            "dense (Dense)                multiple                  100480    \n",
            "_________________________________________________________________\n",
            "dense_1 (Dense)              multiple                  16512     \n",
            "_________________________________________________________________\n",
            "dense_2 (Dense)              multiple                  16512     \n",
            "_________________________________________________________________\n",
            "dense_3 (Dense)              multiple                  1290      \n",
            "_________________________________________________________________\n",
            "dense_4 (Dense)              multiple                  1408      \n",
            "_________________________________________________________________\n",
            "dense_5 (Dense)              multiple                  16512     \n",
            "_________________________________________________________________\n",
            "dense_6 (Dense)              multiple                  1290      \n",
            "=================================================================\n",
            "Total params: 154,004\n",
            "Trainable params: 154,004\n",
            "Non-trainable params: 0\n",
            "_________________________________________________________________\n"
          ],
          "name": "stdout"
        }
      ]
    },
    {
      "metadata": {
        "id": "YU2tfKTNE2Ro",
        "colab_type": "code",
        "outputId": "5bbc7b46-f169-44fc-c8e6-d05f9e090a78",
        "colab": {
          "base_uri": "https://localhost:8080/",
          "height": 68
        }
      },
      "cell_type": "code",
      "source": [
        "val_loss, val_acc = modelo.evaluate(x_test, y_test)\n",
        "print(val_loss)\n",
        "print(val_acc)"
      ],
      "execution_count": 20,
      "outputs": [
        {
          "output_type": "stream",
          "text": [
            "10000/10000 [==============================] - 0s 49us/step\n",
            "0.13482059161141516\n",
            "0.967\n"
          ],
          "name": "stdout"
        }
      ]
    },
    {
      "metadata": {
        "id": "Hn47pKILFEz-",
        "colab_type": "code",
        "colab": {}
      },
      "cell_type": "code",
      "source": [
        "prediciones = modelo.predict(x_test)"
      ],
      "execution_count": 0,
      "outputs": []
    },
    {
      "metadata": {
        "id": "7TzN1pX4FZCL",
        "colab_type": "code",
        "outputId": "8d86fbac-bae1-431a-a67b-80a8cecf83c7",
        "colab": {
          "base_uri": "https://localhost:8080/",
          "height": 238
        }
      },
      "cell_type": "code",
      "source": [
        "print(prediciones)"
      ],
      "execution_count": 22,
      "outputs": [
        {
          "output_type": "stream",
          "text": [
            "[[3.7734682e-10 3.8021739e-05 3.6078115e-06 ... 9.9849474e-01\n",
            "  1.7366192e-06 1.3767976e-03]\n",
            " [4.8511655e-08 2.2708927e-03 9.9651885e-01 ... 4.9005763e-04\n",
            "  1.3642677e-04 6.3174207e-07]\n",
            " [2.1115302e-06 9.9968565e-01 7.8934034e-05 ... 3.3417258e-05\n",
            "  1.8861017e-04 2.2434203e-06]\n",
            " ...\n",
            " [3.2787249e-04 3.7441432e-04 2.1136834e-03 ... 7.0031838e-06\n",
            "  4.1013096e-05 2.6322479e-05]\n",
            " [1.1753427e-04 6.0941314e-11 1.0211976e-07 ... 1.9844111e-12\n",
            "  1.8333589e-05 1.5890575e-04]\n",
            " [6.3984116e-05 1.8327079e-06 2.7561077e-04 ... 1.4218907e-10\n",
            "  2.6977959e-06 4.3295998e-09]]\n"
          ],
          "name": "stdout"
        }
      ]
    },
    {
      "metadata": {
        "id": "wh0wRtRUFczj",
        "colab_type": "code",
        "outputId": "08f700d3-ab74-45ee-bfb8-f09427560f4f",
        "colab": {
          "base_uri": "https://localhost:8080/",
          "height": 34
        }
      },
      "cell_type": "code",
      "source": [
        "import numpy as np\n",
        "N_predicion = 1000\n",
        "print(np.argmax(prediciones[N_predicion]))"
      ],
      "execution_count": 27,
      "outputs": [
        {
          "output_type": "stream",
          "text": [
            "9\n"
          ],
          "name": "stdout"
        }
      ]
    },
    {
      "metadata": {
        "id": "rEUaBhNSFhKh",
        "colab_type": "code",
        "outputId": "8806d85a-fa07-4669-e741-59f2a834eb5c",
        "colab": {
          "base_uri": "https://localhost:8080/",
          "height": 347
        }
      },
      "cell_type": "code",
      "source": [
        "plt.imshow(x_test[N_predicion],cmap=plt.cm.binary)\n",
        "plt.show()"
      ],
      "execution_count": 28,
      "outputs": [
        {
          "output_type": "display_data",
          "data": {
            "image/png": "[encoded data removed]",
            "text/plain": [
              "<matplotlib.figure.Figure at 0x7fab78e2bb70>"
            ]
          },
          "metadata": {
            "tags": []
          }
        }
      ]
    },
    {
      "metadata": {
        "id": "oi33aql9xj1T",
        "colab_type": "code",
        "outputId": "2afc7bea-3ab1-4f5a-ab93-f9ef27fbd8d9",
        "colab": {
          "base_uri": "https://localhost:8080/",
          "height": 481
        }
      },
      "cell_type": "code",
      "source": [
        ""
      ],
      "execution_count": 29,
      "outputs": [
        {
          "output_type": "display_data",
          "data": {
            "image/png": "[encoded data removed]",
            "text/plain": [
              "<matplotlib.figure.Figure at 0x7fab75cc6668>"
            ]
          },
          "metadata": {
            "tags": []
          }
        }
      ]
    },
    {
      "metadata": {
        "id": "ypkp9EMA4i_0",
        "colab_type": "text"
      },
      "cell_type": "markdown",
      "source": [
        "## Proximo lab\n",
        "https://www.microsoft.com/en-us/download/confirmation.aspx?id=54765\n"
      ]
    }
  ]
}