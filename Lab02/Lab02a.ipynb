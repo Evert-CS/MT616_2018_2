{
  "nbformat": 4,
  "nbformat_minor": 0,
  "metadata": {
    "colab": {
      "name": "Lab03.ipynb",
      "version": "0.3.2",
      "provenance": []
    },
    "kernelspec": {
      "name": "python3",
      "display_name": "Python 3"
    }
  },
  "cells": [
    {
      "metadata": {
        "id": "IwVHxnIjZ51m",
        "colab_type": "text"
      },
      "cell_type": "markdown",
      "source": [
        ""
      ]
    },
    {
      "metadata": {
        "id": "nTHphY9AGp_O",
        "colab_type": "text"
      },
      "cell_type": "markdown",
      "source": [
        "# Linear Regression usando gradiente descendente \n",
        "\n",
        "## Hay 4 supociciones que justifican el uso de modelos de regresión lineal para fines de  predicción:\n",
        "\n",
        "\n",
        "\n",
        "1. Relacion de linealidad y aditividad entre variables dependientes e independientes:\n",
        "   *  El valor esperado de la variable dependiente es una función de línea recta de cada variable independiente, manteniendo las otras fijas. En otras palabras la pendiente de esa línea no depende de los valores de las otras variables. Los efectos de diferentes variables independientes sobre el valor esperado de la variable dependiente son aditivos.\n",
        "   \n",
        "2. Independencia estadística de los errores (en particular, no hay correlación entre errores consecutivos en el caso de datos de series de tiempo)\n",
        "\n",
        "3. Homoscedasticidad (varianza constante) de los errores.\n",
        "\n",
        "    * versus tiempo (en el caso de datos de series de tiempo)\n",
        "\n",
        "    * versus las predicciones\n",
        "\n",
        "    * versus cualquier variable independiente\n",
        "\n",
        "4. Normalidad de la distribución del error.\n",
        "\n",
        "http://people.duke.edu/~rnau/testing.htm\n",
        "\n",
        "\n",
        "##Relizar el tutorial de Intro a Matplotlib de \n",
        "https://colab.research.google.com/notebooks/welcome.ipynb"
      ]
    },
    {
      "metadata": {
        "id": "M9SCrS6lKF8d",
        "colab_type": "text"
      },
      "cell_type": "markdown",
      "source": [
        "## Contruyendo  J($\\theta$) y GD\n",
        "Vamos a utilizar un solo valor, el alcohol, para predecir la calidad y convertir las cosas en un modelo más complejo que incluya mas variables.\n",
        "Comencemos con el análisis del contenido de alcohol y su relacion con la  calidad y veamos qué tan bien concuerda."
      ]
    },
    {
      "metadata": {
        "id": "Cpl9KIGqGo2i",
        "colab_type": "code",
        "colab": {}
      },
      "cell_type": "code",
      "source": [
        "import pandas as pd\n",
        "import numpy as np\n",
        "\n",
        "\n",
        "data = pd.read_table(\"http://archive.ics.uci.edu/ml/machine-learning-databases/wine-quality/winequality-red.csv\", sep=\";\")\n",
        "\n",
        "data.head()\n",
        "\n",
        "data.describe()\n",
        "\n",
        "data.hist('citric acid')"
      ],
      "execution_count": 0,
      "outputs": []
    },
    {
      "metadata": {
        "id": "NokdIDF2HP9i",
        "colab_type": "text"
      },
      "cell_type": "markdown",
      "source": [
        ""
      ]
    },
    {
      "metadata": {
        "id": "RbzWbcejHREW",
        "colab_type": "code",
        "outputId": "2a436585-646f-48e5-8c37-9ca8a68914d2",
        "colab": {
          "base_uri": "https://localhost:8080/",
          "height": 283
        }
      },
      "cell_type": "code",
      "source": [
        "import matplotlib.pyplot as plt\n",
        "%matplotlib inline\n",
        "\n",
        "data.plot(kind=\"scatter\", x=\"alcohol\", y=\"quality\", grid=True)\n",
        "plt.show()"
      ],
      "execution_count": 2,
      "outputs": [
        {
          "output_type": "display_data",
          "data": {
            "image/png": "[encoded data removed]",
            "text/plain": [
              "<Figure size 432x288 with 1 Axes>"
            ]
          },
          "metadata": {
            "tags": []
          }
        }
      ]
    },
    {
      "metadata": {
        "id": "swwI2HQyKnhU",
        "colab_type": "text"
      },
      "cell_type": "markdown",
      "source": [
        ""
      ]
    },
    {
      "metadata": {
        "id": "dwhfM7PUKn4o",
        "colab_type": "code",
        "colab": {}
      },
      "cell_type": "code",
      "source": [
        "def Jcost(X, y, theta):\n",
        "    inner = np.power(((X * theta.T) - y), 2)\n",
        "    return np.sum(inner) / (2 * len(X))"
      ],
      "execution_count": 0,
      "outputs": []
    },
    {
      "metadata": {
        "id": "ash2nnj4Kr80",
        "colab_type": "text"
      },
      "cell_type": "markdown",
      "source": [
        ""
      ]
    },
    {
      "metadata": {
        "id": "-iEAB5xUKsLf",
        "colab_type": "code",
        "colab": {}
      },
      "cell_type": "code",
      "source": [
        "alpha = 0.01\n",
        "iters = 1000\n",
        "def gradientDescent(X, y, theta, alpha, iters):\n",
        "    \n",
        "    # Definir la matriz temporal para theta.\n",
        "    temp = np.matrix(np.zeros(theta.shape))\n",
        "    \n",
        "    # # Número de parámetros para iterar\n",
        "    parameters = int(theta.ravel().shape[1])\n",
        "    \n",
        "    # Vector de costos para ver cómo progresa a través de cada paso.\n",
        "    cost = np.zeros(iters + 1)\n",
        "    cost[0] = Jcost(X, y, theta)\n",
        "    \n",
        "    # Calcula el error en cada iter\n",
        "    for i in range(iters):\n",
        "        error = (X * theta.T) - y\n",
        "        \n",
        "        for j in range(parameters):\n",
        "            term = np.multiply(error, X[:,j])\n",
        "            temp[0,j] = theta[0,j] - ((alpha / len(X)) * np.sum(term))\n",
        "            \n",
        "        theta = temp\n",
        "        cost[i + 1] = Jcost(X, y, theta)\n",
        "        \n",
        "    return theta, cost"
      ],
      "execution_count": 0,
      "outputs": []
    },
    {
      "metadata": {
        "id": "6oZ9mO-fK7SN",
        "colab_type": "text"
      },
      "cell_type": "markdown",
      "source": [
        ""
      ]
    },
    {
      "metadata": {
        "id": "ZIyUumW2K7ht",
        "colab_type": "code",
        "colab": {}
      },
      "cell_type": "code",
      "source": [
        "X = pd.DataFrame(data['alcohol'])\n",
        "X['x_0'] = 1\n",
        "y = data['quality']\n",
        "\n",
        "X = np.matrix(X.values)\n",
        "y = np.matrix(y.values).T\n",
        "theta = np.matrix(np.zeros(shape=[1,X.shape[1]]))"
      ],
      "execution_count": 0,
      "outputs": []
    },
    {
      "metadata": {
        "id": "emWpzjKILFDW",
        "colab_type": "code",
        "outputId": "58f02e1d-c89e-4ed3-f000-85bfdc3aa941",
        "colab": {
          "base_uri": "https://localhost:8080/",
          "height": 50
        }
      },
      "cell_type": "code",
      "source": [
        "print(X.shape, y.shape, theta.shape)\n",
        "\n",
        "Jcost(X, y, theta)\n",
        "\n"
      ],
      "execution_count": 10,
      "outputs": [
        {
          "output_type": "stream",
          "text": [
            "(1599, 2) (1599, 1) (1, 2)\n"
          ],
          "name": "stdout"
        },
        {
          "output_type": "execute_result",
          "data": {
            "text/plain": [
              "16.20825515947467"
            ]
          },
          "metadata": {
            "tags": []
          },
          "execution_count": 10
        }
      ]
    },
    {
      "metadata": {
        "id": "Jvw99DrcLZro",
        "colab_type": "text"
      },
      "cell_type": "markdown",
      "source": [
        ""
      ]
    },
    {
      "metadata": {
        "id": "v7CpUdHSLaIY",
        "colab_type": "code",
        "outputId": "30e61d14-a302-4408-9287-cefb3962f808",
        "colab": {
          "base_uri": "https://localhost:8080/",
          "height": 34
        }
      },
      "cell_type": "code",
      "source": [
        "theta_final, cost = gradientDescent(X, y, theta, alpha, iters)\n",
        "Jcost(X, y, theta_final)"
      ],
      "execution_count": 11,
      "outputs": [
        {
          "output_type": "execute_result",
          "data": {
            "text/plain": [
              "0.2660076719790539"
            ]
          },
          "metadata": {
            "tags": []
          },
          "execution_count": 11
        }
      ]
    },
    {
      "metadata": {
        "id": "sov9TqCSLlH0",
        "colab_type": "text"
      },
      "cell_type": "markdown",
      "source": [
        ""
      ]
    },
    {
      "metadata": {
        "id": "Vsk9yjJbLlVl",
        "colab_type": "code",
        "outputId": "1eebcbb4-9c02-4482-9bbf-b809a65b5a0b",
        "colab": {
          "base_uri": "https://localhost:8080/",
          "height": 621
        }
      },
      "cell_type": "code",
      "source": [
        "plt.figure(figsize=(10,10))\n",
        "plt.xlabel(\"Epoch\")\n",
        "plt.ylabel(\"Costo $J(\\theta$)\")\n",
        "plt.plot(cost)\n",
        "plt.title(\"Funcion Costo J vs iteraciones \")\n",
        "plt.show()"
      ],
      "execution_count": 12,
      "outputs": [
        {
          "output_type": "display_data",
          "data": {
            "image/png": "[encoded data removed]",
            "text/plain": [
              "<Figure size 720x720 with 1 Axes>"
            ]
          },
          "metadata": {
            "tags": []
          }
        }
      ]
    },
    {
      "metadata": {
        "id": "tq2jsuwKMCBU",
        "colab_type": "text"
      },
      "cell_type": "markdown",
      "source": [
        ""
      ]
    },
    {
      "metadata": {
        "id": "EnbvCQmvMCXv",
        "colab_type": "code",
        "outputId": "8604d7f3-7f8b-4520-ed82-743cb8fd9191",
        "colab": {
          "base_uri": "https://localhost:8080/",
          "height": 513
        }
      },
      "cell_type": "code",
      "source": [
        "x = np.linspace(data.alcohol.min(), data.alcohol.max(), 100)\n",
        "y_gen = theta_final[0,1] + theta_final[0,0] * x \n",
        "\n",
        "\n",
        "fig, ax = plt.subplots(figsize=(12,8))\n",
        "ax.plot(x, y_gen, 'r', label='Predecido')\n",
        "ax.scatter(data.alcohol, data.quality, label='Data')\n",
        "ax.legend(loc=2)\n",
        "ax.set_xlabel('Alcol')\n",
        "ax.set_ylabel('Calidad del vino')\n",
        "ax.set_title('Prediccion de calidad vs. Alcohol')\n",
        "plt.show()"
      ],
      "execution_count": 13,
      "outputs": [
        {
          "output_type": "display_data",
          "data": {
            "image/png": "[encoded data removed]",
            "text/plain": [
              "<Figure size 864x576 with 1 Axes>"
            ]
          },
          "metadata": {
            "tags": []
          }
        }
      ]
    },
    {
      "metadata": {
        "id": "3XtThTfNM8Zd",
        "colab_type": "code",
        "outputId": "a6ebce36-e6e9-4ddb-96b6-0d5dd1fdd86b",
        "colab": {
          "base_uri": "https://localhost:8080/",
          "height": 454
        }
      },
      "cell_type": "code",
      "source": [
        "#NormaLizando para hacer analisis multivariable\n",
        "data_z = (data - data.mean()) / data.std()\n",
        "data_z.describe()\n",
        "\n",
        "sigma = data.std()\n",
        "mu = data.mean()\n",
        "\n",
        "print(sigma)\n",
        "print(mu)"
      ],
      "execution_count": 14,
      "outputs": [
        {
          "output_type": "stream",
          "text": [
            "fixed acidity            1.741096\n",
            "volatile acidity         0.179060\n",
            "citric acid              0.194801\n",
            "residual sugar           1.409928\n",
            "chlorides                0.047065\n",
            "free sulfur dioxide     10.460157\n",
            "total sulfur dioxide    32.895324\n",
            "density                  0.001887\n",
            "pH                       0.154386\n",
            "sulphates                0.169507\n",
            "alcohol                  1.065668\n",
            "quality                  0.807569\n",
            "dtype: float64\n",
            "fixed acidity            8.319637\n",
            "volatile acidity         0.527821\n",
            "citric acid              0.270976\n",
            "residual sugar           2.538806\n",
            "chlorides                0.087467\n",
            "free sulfur dioxide     15.874922\n",
            "total sulfur dioxide    46.467792\n",
            "density                  0.996747\n",
            "pH                       3.311113\n",
            "sulphates                0.658149\n",
            "alcohol                 10.422983\n",
            "quality                  5.636023\n",
            "dtype: float64\n"
          ],
          "name": "stdout"
        }
      ]
    },
    {
      "metadata": {
        "id": "_lBrRPPvNKhm",
        "colab_type": "code",
        "outputId": "40f085c9-b1b3-4548-efef-ceac661f94d9",
        "colab": {
          "base_uri": "https://localhost:8080/",
          "height": 34
        }
      },
      "cell_type": "code",
      "source": [
        "# Incluye x_0 \n",
        "data_z['x_0'] = 1\n",
        "\n",
        "X = data_z.drop(['quality'], axis=1)\n",
        "y = data_z['quality']\n",
        "\n",
        "X = np.matrix(X.values)\n",
        "y = np.matrix(y.values).T\n",
        "theta = np.matrix(np.zeros(shape=[1,X.shape[1]]))\n",
        "\n",
        "print(X.shape, y.shape, theta.shape)"
      ],
      "execution_count": 15,
      "outputs": [
        {
          "output_type": "stream",
          "text": [
            "(1599, 12) (1599, 1) (1, 12)\n"
          ],
          "name": "stdout"
        }
      ]
    },
    {
      "metadata": {
        "id": "9mssqLExNXzo",
        "colab_type": "code",
        "outputId": "31d70958-7447-4850-f255-009f5761e323",
        "colab": {
          "base_uri": "https://localhost:8080/",
          "height": 218
        }
      },
      "cell_type": "code",
      "source": [
        "theta_final, cost = gradientDescent(X, y, theta, alpha, iters)\n",
        "\n",
        "for i in range(0, theta_final.shape[1] - 1):\n",
        "    print(data_z.columns[i], theta_final.T[i])\n",
        "    \n",
        "Jcost(X, y, theta_final)"
      ],
      "execution_count": 16,
      "outputs": [
        {
          "output_type": "stream",
          "text": [
            "fixed acidity [[0.07643899]]\n",
            "volatile acidity [[-0.23250415]]\n",
            "citric acid [[-0.03256903]]\n",
            "residual sugar [[0.0379982]]\n",
            "chlorides [[-0.11097073]]\n",
            "free sulfur dioxide [[0.05568745]]\n",
            "total sulfur dioxide [[-0.13376176]]\n",
            "density [[-0.07123053]]\n",
            "pH [[-0.0624788]]\n",
            "sulphates [[0.19712703]]\n",
            "alcohol [[0.34483693]]\n"
          ],
          "name": "stdout"
        },
        {
          "output_type": "execute_result",
          "data": {
            "text/plain": [
              "0.31962101116122116"
            ]
          },
          "metadata": {
            "tags": []
          },
          "execution_count": 16
        }
      ]
    },
    {
      "metadata": {
        "id": "mltyxs2jNoDV",
        "colab_type": "code",
        "outputId": "a1e8ba29-8ef6-4d25-b7f9-053679e659f8",
        "colab": {
          "base_uri": "https://localhost:8080/",
          "height": 513
        }
      },
      "cell_type": "code",
      "source": [
        "fig, ax = plt.subplots(figsize=(12,8))\n",
        "ax.set_xlabel(\"Iters\")\n",
        "ax.set_ylabel(r\"Costo $J(\\theta)$\")\n",
        "ax.plot(cost)\n",
        "ax.set_title(\"Costo vs. iters para Multivariable\")\n",
        "plt.show()"
      ],
      "execution_count": 17,
      "outputs": [
        {
          "output_type": "display_data",
          "data": {
            "image/png": "[encoded data removed]",
            "text/plain": [
              "<Figure size 864x576 with 1 Axes>"
            ]
          },
          "metadata": {
            "tags": []
          }
        }
      ]
    },
    {
      "metadata": {
        "id": "mogN6ggqNwKu",
        "colab_type": "code",
        "colab": {}
      },
      "cell_type": "code",
      "source": [
        "# x_norm es el dominio normalizado para usar para predicciones\n",
        "x_norm = np.ones((100, X.shape[1]))\n",
        "for i in range(1, x_norm.shape[1]):\n",
        "    x_norm[:,i] = np.linspace(X[:,i].min(), X[:,i].max(), 100)\n",
        "\n",
        "# y_norm son los valores predichos normalizados\n",
        "y_norm = x_norm * theta_final.T"
      ],
      "execution_count": 0,
      "outputs": []
    },
    {
      "metadata": {
        "id": "jVgBGrnfNyda",
        "colab_type": "code",
        "colab": {}
      },
      "cell_type": "code",
      "source": [
        "#Regresando a las variables originales utilizando la desviación estandar y los valores promedio calculados anteriormente\n",
        "\n",
        "y_orig = y_norm * sigma[len(sigma) - 1] + mu[len(mu) - 1]\n",
        "x_orig = x_norm\n",
        "# First column is intercepts\n",
        "x_orig[:,0:(len(sigma) - 1)] = x_norm[:,0:(len(sigma) - 1)] * np.atleast_2d(sigma[0:(len(sigma) - 1)]) + np.atleast_2d(mu[0:(len(sigma) - 1)])"
      ],
      "execution_count": 0,
      "outputs": []
    },
    {
      "metadata": {
        "id": "wNATvScaN1G5",
        "colab_type": "code",
        "outputId": "9389ebff-caf0-4521-a10b-258f13396f1a",
        "colab": {
          "base_uri": "https://localhost:8080/",
          "height": 621
        }
      },
      "cell_type": "code",
      "source": [
        "fig, ax = plt.subplots(figsize=(10,10))\n",
        "ax.plot(x_orig[:,10], y_orig, 'r', label='Predecido')\n",
        "ax.scatter(data.alcohol, data.quality, label='Data')\n",
        "ax.set_xlabel(\"Alcol\")\n",
        "ax.set_ylabel(\"Calidad del vino\")\n",
        "ax.set_title(\"Calidad del vino vs Alcol\")\n",
        "plt.show()"
      ],
      "execution_count": 20,
      "outputs": [
        {
          "output_type": "display_data",
          "data": {
            "image/png": "[encoded data removed]",
            "text/plain": [
              "<Figure size 720x720 with 1 Axes>"
            ]
          },
          "metadata": {
            "tags": []
          }
        }
      ]
    },
    {
      "metadata": {
        "id": "Yf4s2fbNN8Ku",
        "colab_type": "code",
        "outputId": "8cdc7e1d-2ed8-4b7d-ef44-f9e18c4a9a84",
        "colab": {
          "base_uri": "https://localhost:8080/",
          "height": 34
        }
      },
      "cell_type": "code",
      "source": [
        "# Usa los datos  para calcular R-squared\n",
        "y_orig_2 = np.ravel(X * theta_final.T * sigma[len(sigma) - 1] + mu[len(mu) - 1])\n",
        "num = np.sum((data.quality - y_orig_2) ** 2)\n",
        "den = np.sum((data.quality - data.quality.mean()) ** 2)\n",
        "r_squared = 1 - num / den\n",
        "r_squared"
      ],
      "execution_count": 21,
      "outputs": [
        {
          "output_type": "execute_result",
          "data": {
            "text/plain": [
              "0.36035795138073934"
            ]
          },
          "metadata": {
            "tags": []
          },
          "execution_count": 21
        }
      ]
    },
    {
      "metadata": {
        "id": "QRPljd9_OHch",
        "colab_type": "text"
      },
      "cell_type": "markdown",
      "source": [
        "# Usando directamente SKlearn"
      ]
    },
    {
      "metadata": {
        "id": "RrrWy2Z-OP-g",
        "colab_type": "code",
        "outputId": "dc988542-3e2b-4f45-bdfd-bf5a2c4cd2ea",
        "colab": {
          "base_uri": "https://localhost:8080/",
          "height": 34
        }
      },
      "cell_type": "code",
      "source": [
        "from sklearn.linear_model import LinearRegression\n",
        "\n",
        "X = data.drop(['quality'], axis=1)\n",
        "y = data['quality']\n",
        "lm = LinearRegression(fit_intercept=True, normalize=True)\n",
        "lm.fit(X, y)\n",
        "\n",
        "LinearRegression(copy_X=True, fit_intercept=True, n_jobs=1, normalize=True)\n",
        "\n"
      ],
      "execution_count": 22,
      "outputs": [
        {
          "output_type": "execute_result",
          "data": {
            "text/plain": [
              "LinearRegression(copy_X=True, fit_intercept=True, n_jobs=1, normalize=True)"
            ]
          },
          "metadata": {
            "tags": []
          },
          "execution_count": 22
        }
      ]
    },
    {
      "metadata": {
        "id": "--G2PiyvOV8a",
        "colab_type": "code",
        "colab": {}
      },
      "cell_type": "code",
      "source": [
        "X_ = np.matrix(X.values)\n",
        "x_gen = np.zeros((100, X.shape[1]))\n",
        "for i in range(X.shape[1]):\n",
        "    x_gen[:,i] = np.linspace(X_[:,i].min(), X_[:,i].max(), 100)\n",
        "y_gen= lm.predict(x_gen)"
      ],
      "execution_count": 0,
      "outputs": []
    },
    {
      "metadata": {
        "id": "_841HyykOYty",
        "colab_type": "code",
        "outputId": "8fa61de7-6ce6-4fd9-86fa-cc4ca385c434",
        "colab": {
          "base_uri": "https://localhost:8080/",
          "height": 513
        }
      },
      "cell_type": "code",
      "source": [
        "fig, ax = plt.subplots(figsize=(12,8))\n",
        "plt.scatter(data.alcohol, data.quality, label='Data')\n",
        "plt.plot(x_gen[:,10], y_gen, 'r', label='predecido por Sklearn')\n",
        "plt.xlabel(\"Alcol\")\n",
        "plt.ylabel(\"Calidad\")\n",
        "plt.title(\"Wine Quality vs. Alcohol\")\n",
        "plt.show()"
      ],
      "execution_count": 24,
      "outputs": [
        {
          "output_type": "display_data",
          "data": {
            "image/png": "[encoded data removed]",
            "text/plain": [
              "<Figure size 864x576 with 1 Axes>"
            ]
          },
          "metadata": {
            "tags": []
          }
        }
      ]
    },
    {
      "metadata": {
        "id": "j0P3w-x3Ocke",
        "colab_type": "code",
        "outputId": "c8b7714d-c18d-4bf4-bee3-0f98a33cc1b6",
        "colab": {
          "base_uri": "https://localhost:8080/",
          "height": 34
        }
      },
      "cell_type": "code",
      "source": [
        "lm.score(X, y)"
      ],
      "execution_count": 25,
      "outputs": [
        {
          "output_type": "execute_result",
          "data": {
            "text/plain": [
              "0.36055170303868833"
            ]
          },
          "metadata": {
            "tags": []
          },
          "execution_count": 25
        }
      ]
    }
  ]
}